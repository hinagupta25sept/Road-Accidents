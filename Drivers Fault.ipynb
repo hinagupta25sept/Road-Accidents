{
  "nbformat": 4,
  "nbformat_minor": 0,
  "metadata": {
    "colab": {
      "name": "Untitled3.ipynb",
      "provenance": []
    },
    "kernelspec": {
      "name": "python3",
      "display_name": "Python 3"
    }
  },
  "cells": [
    {
      "cell_type": "code",
      "metadata": {
        "id": "apcYXsX4CRcD"
      },
      "source": [
        "from scipy.spatial import distance\n",
        "from imutils import face_utils\n",
        "import imutils\n",
        "import dlib\n",
        "import cv2"
      ],
      "execution_count": 60,
      "outputs": []
    },
    {
      "cell_type": "code",
      "metadata": {
        "id": "X6CP1geZDiaG",
        "outputId": "3f616397-b296-4f09-905d-01a624e97518",
        "colab": {
          "base_uri": "https://localhost:8080/",
          "height": 170
        }
      },
      "source": [
        "import os\n",
        "!git clone https://github.com/ntasfi/PyGame-Learning-Environment.git\n",
        "os.chdir('PyGame-Learning-Environment')\n",
        "!pip install -e ."
      ],
      "execution_count": 61,
      "outputs": [
        {
          "output_type": "stream",
          "text": [
            "fatal: destination path 'PyGame-Learning-Environment' already exists and is not an empty directory.\n",
            "Obtaining file:///content/PyGame-Learning-Environment\n",
            "Requirement already satisfied: numpy in /usr/local/lib/python3.6/dist-packages (from ple==0.0.1) (1.18.5)\n",
            "Requirement already satisfied: Pillow in /usr/local/lib/python3.6/dist-packages (from ple==0.0.1) (7.0.0)\n",
            "Installing collected packages: ple\n",
            "  Found existing installation: ple 0.0.1\n",
            "    Can't uninstall 'ple'. No files were found to uninstall.\n",
            "  Running setup.py develop for ple\n",
            "Successfully installed ple\n"
          ],
          "name": "stdout"
        }
      ]
    },
    {
      "cell_type": "code",
      "metadata": {
        "id": "acLymfHXD37Y"
      },
      "source": [
        "# Switch back to the root.\n",
        "os.chdir('/content')"
      ],
      "execution_count": 62,
      "outputs": []
    },
    {
      "cell_type": "code",
      "metadata": {
        "id": "65LZMG6LD6QJ",
        "outputId": "9afb902c-5bd2-4fe8-82c0-d31bca16525e",
        "colab": {
          "base_uri": "https://localhost:8080/",
          "height": 34
        }
      },
      "source": [
        "!pip install pygame"
      ],
      "execution_count": 63,
      "outputs": [
        {
          "output_type": "stream",
          "text": [
            "Requirement already satisfied: pygame in /usr/local/lib/python3.6/dist-packages (1.9.6)\n"
          ],
          "name": "stdout"
        }
      ]
    },
    {
      "cell_type": "code",
      "metadata": {
        "id": "Wpax61_ODBYm"
      },
      "source": [
        "from pygame import mixer\n",
        "def eye_aspect_ratio(eye):\n",
        "\tA = distance.euclidean(eye[1], eye[5])\n",
        "\tB = distance.euclidean(eye[2], eye[4])\n",
        "\tC = distance.euclidean(eye[0], eye[3])\n",
        "\tear = (A + B) / (2.0 * C)\n",
        "\treturn ear"
      ],
      "execution_count": 64,
      "outputs": []
    },
    {
      "cell_type": "code",
      "metadata": {
        "id": "4uJAJ8L5DF3F"
      },
      "source": [
        "thresh = 0.25\n",
        "frame_check = 20\n",
        "detect = dlib.get_frontal_face_detector()\n",
        "predict = dlib.shape_predictor(\"shape_predictor_68_face_landmarks.dat\")# Dat file is the crux of the code"
      ],
      "execution_count": 65,
      "outputs": []
    },
    {
      "cell_type": "code",
      "metadata": {
        "id": "bjsmgSwVls5B"
      },
      "source": [
        ""
      ],
      "execution_count": 66,
      "outputs": []
    },
    {
      "cell_type": "code",
      "metadata": {
        "id": "zyCJxw22IEgC"
      },
      "source": [
        "(lStart, lEnd) = face_utils.FACIAL_LANDMARKS_IDXS[\"left_eye\"]\n",
        "(rStart, rEnd) = face_utils.FACIAL_LANDMARKS_IDXS[\"right_eye\"]\n",
        "cap=cv2.VideoCapture(0)\n",
        "flag=0\n",
        "while (True):\n",
        "    ret, frame=cap.read()\n",
        "    frame = imutils.resize(frame, width=450)\n",
        "    gray = cv2.cvtColor(frame, cv2.COLOR_BGR2GRAY)\n",
        "    subjects = detect(gray, 0)\n",
        "    for subject in subjects:\n",
        "        shape=predict(gray,subject)\n",
        "        shape=face_utils.shape_to_np(shape)\n",
        "        leftEye=shape[lStart:lEnd]\n",
        "        rightEye=shape[rStart:rEnd]\n",
        "        leftEAR=eye_aspect_ratio(leftEye)\n",
        "        rightEAR=eye_aspect_ratio(rightEye)\n",
        "        ear=(leftEAR+rightEAR)/2.0\n",
        "        leftEyeHull=cv2.convexHull(leftEye)\n",
        "        rightEyeHull=cv2.convexHull(rightEye)\n",
        "        cv2.drawContours(frame,[leftEyeHull],-1,(0,255,0),1)\n",
        "        cv2.drawContours(frame,[rightEyeHull],-1,(0,255,0),1)\n",
        "        if ear<thresh:\n",
        "            flag+=1\n",
        "            print(flag)\n",
        "            \n",
        "            if flag>=frame_check:\n",
        "                cv2.putText(frame,\"@@@@@@@@@@@WAKE UP BUDDY@@@@@@@@@@\",(10,30),cv2.FONT_HERSHEY_SIMPLEX,0.7,(0,0,255),2)\n",
        "                cv2.putText(frame,\"@@@@@@@@@@@WAKE UP BUDDY@@@@@@@@@@\",(10,325),cv2.FONT_HERSHEY_SIMPLEX,0.7,(0,0,255),2)\n",
        "                mixer.init() #you must initialize the mixer\n",
        "                alert=mixer.Sound('button-6.wav')\n",
        "                alert.play()\n",
        "                print(\"drowsy\")\n",
        "        else:\n",
        "            flag=0\n",
        "        cv2.imshow(\"Frame\", frame)\n",
        "        key = cv2.waitKey(1) & 0xFF\n",
        "        if key == ord(\"q\"):\n",
        "            cap.release()\n",
        "            break\n",
        "cv2.destroyAllWindows()\n",
        "cv2.stop()"
      ],
      "execution_count": 59,
      "outputs": []
    },
    {
      "cell_type": "code",
      "metadata": {
        "id": "3HWXt99IJXhe"
      },
      "source": [
        ""
      ],
      "execution_count": null,
      "outputs": []
    }
  ]
}